{
 "cells": [
  {
   "cell_type": "code",
   "execution_count": 1,
   "metadata": {},
   "outputs": [],
   "source": [
    "from pyspark.sql import SparkSession\n",
    "spark = SparkSession.builder.appName('paypay_challenge_sol2').getOrCreate()"
   ]
  },
  {
   "cell_type": "code",
   "execution_count": 2,
   "metadata": {},
   "outputs": [
    {
     "data": {
      "text/html": [
       "<style>.container { width:100% !important; }</style>"
      ],
      "text/plain": [
       "<IPython.core.display.HTML object>"
      ]
     },
     "metadata": {},
     "output_type": "display_data"
    }
   ],
   "source": [
    "from IPython.core.display import display, HTML\n",
    "display(HTML(\"<style>.container { width:100% !important; }</style>\"))"
   ]
  },
  {
   "cell_type": "code",
   "execution_count": 3,
   "metadata": {},
   "outputs": [],
   "source": [
    "def prtyshow(sprkDF): \n",
    "    newdf = sprkDF.limit(5).toPandas()\n",
    "    from IPython.display import display, HTML\n",
    "    return HTML(newdf.to_html())"
   ]
  },
  {
   "cell_type": "code",
   "execution_count": 4,
   "metadata": {},
   "outputs": [],
   "source": [
    "from pyspark.sql.types import *\n",
    "\n",
    "log_schema=StructType([\n",
    "    StructField(\"timestamp\", TimestampType(), True),\n",
    "    StructField(\"elb_name\", StringType(), True),\n",
    "    StructField(\"request_ip:request_port\", StringType(), True),\n",
    "\tStructField(\"backend_ip:backend_port\", StringType(), True),\n",
    "\tStructField(\"request_processing_time\", DoubleType(), True),\n",
    "\tStructField(\"backend_processing_time\", DoubleType(), True),\n",
    "\tStructField(\"client_response_time\", StringType(), True),\n",
    "\tStructField(\"elb_response_code\", StringType(), True),\n",
    "\tStructField(\"backend_response_code\", StringType(), True),\n",
    "\tStructField(\"received_bytes\", StringType(), True),\n",
    "\tStructField(\"sent_bytes\", StringType(), True),\n",
    "    StructField(\"request\", StringType(), True),\t\n",
    "\tStructField(\"user_agent\", StringType(), True),\n",
    "\tStructField(\"ssl_cipher\", StringType(), True),\n",
    "\tStructField(\"ssl_protocol\", StringType(), True)\n",
    "\t\n",
    "\t\n",
    "])"
   ]
  },
  {
   "cell_type": "code",
   "execution_count": 5,
   "metadata": {},
   "outputs": [],
   "source": [
    "log_file_name=\"2015_07_22_mktplace_shop_web_log_sample.log.gz\""
   ]
  },
  {
   "cell_type": "code",
   "execution_count": 6,
   "metadata": {},
   "outputs": [],
   "source": [
    "elb_log_df=spark.read.format(\"csv\").\\\n",
    "        option(\"header\", \"false\").\\\n",
    "        option(\"delimiter\", \" \").\\\n",
    "        schema(log_schema).\\\n",
    "        load(log_file_name)"
   ]
  },
  {
   "cell_type": "code",
   "execution_count": null,
   "metadata": {},
   "outputs": [],
   "source": [
    "prtyshow(elb_log_df)"
   ]
  },
  {
   "cell_type": "code",
   "execution_count": 7,
   "metadata": {},
   "outputs": [],
   "source": [
    "elb_log_df.createOrReplaceTempView(\"elb_log_table\")"
   ]
  },
  {
   "cell_type": "code",
   "execution_count": 8,
   "metadata": {},
   "outputs": [
    {
     "name": "stdout",
     "output_type": "stream",
     "text": [
      "+--------------------+--------------------+----------------+-----------------------+-----------------------+-----------------------+-----------------------+--------------------+-----------------+---------------------+--------------+----------+--------------------+--------------------+--------------------+------------+----------+-----------+\n",
      "|          session_id|           timestamp|        elb_name|request_ip:request_port|backend_ip:backend_port|request_processing_time|backend_processing_time|client_response_time|elb_response_code|backend_response_code|received_bytes|sent_bytes|             request|          user_agent|          ssl_cipher|ssl_protocol| sess_date|new_session|\n",
      "+--------------------+--------------------+----------------+-----------------------+-----------------------+-----------------------+-----------------------+--------------------+-----------------+---------------------+--------------+----------+--------------------+--------------------+--------------------+------------+----------+-----------+\n",
      "|2015-07-22_1.186....|2015-07-22 16:33:...|marketpalce-shop|     1.186.101.79:50613|          10.0.6.158:80|                 2.4E-5|               0.022713|            0.000021|              200|                  200|             0|      1146|GET https://paytm...|Mozilla/5.0 (Wind...|ECDHE-RSA-AES128-...|     TLSv1.2|2015-07-22|          0|\n",
      "|2015-07-22_1.186....|2015-07-22 16:27:...|marketpalce-shop|     1.186.101.79:50613|          10.0.6.199:80|                 2.5E-5|               0.035941|            0.000022|              200|                  200|             0|      1146|GET https://paytm...|Mozilla/5.0 (Wind...|ECDHE-RSA-AES128-...|     TLSv1.2|2015-07-22|          0|\n",
      "|2015-07-22_1.186....|2015-07-22 16:18:...|marketpalce-shop|     1.186.101.79:50613|          10.0.4.225:80|                 2.1E-5|               0.023068|            0.000022|              200|                  200|             0|      1146|GET https://paytm...|Mozilla/5.0 (Wind...|ECDHE-RSA-AES128-...|     TLSv1.2|2015-07-22|          0|\n",
      "|2015-07-22_1.186....|2015-07-22 16:20:...|marketpalce-shop|     1.186.101.79:50613|          10.0.6.158:80|                 2.4E-5|               0.008459|            0.000021|              200|                  200|             0|       229|GET https://paytm...|Mozilla/5.0 (Wind...|ECDHE-RSA-AES128-...|     TLSv1.2|2015-07-22|          0|\n",
      "|2015-07-22_1.186....|2015-07-22 16:30:...|marketpalce-shop|     1.186.101.79:50613|          10.0.6.199:80|                 2.4E-5|               0.114374|             0.00002|              200|                  200|             0|      1375|GET https://paytm...|Mozilla/5.0 (Wind...|ECDHE-RSA-AES128-...|     TLSv1.2|2015-07-22|          0|\n",
      "|2015-07-22_1.186....|2015-07-22 16:31:...|marketpalce-shop|     1.186.101.79:50613|          10.0.4.176:80|                 2.2E-5|               0.005804|            0.000021|              200|                  200|             0|     14186|GET https://paytm...|Mozilla/5.0 (Wind...|ECDHE-RSA-AES128-...|     TLSv1.2|2015-07-22|          0|\n",
      "|2015-07-22_1.186....|2015-07-22 16:26:...|marketpalce-shop|     1.186.101.79:50613|          10.0.6.199:80|                 2.4E-5|               0.028501|             0.00002|              200|                  200|           105|       700|POST https://payt...|Mozilla/5.0 (Wind...|ECDHE-RSA-AES128-...|     TLSv1.2|2015-07-22|          0|\n",
      "|2015-07-22_1.186....|2015-07-22 16:18:...|marketpalce-shop|     1.186.101.79:50613|          10.0.4.244:80|                 2.5E-5|               0.018183|             0.00002|              200|                  200|             0|      1146|GET https://paytm...|Mozilla/5.0 (Wind...|ECDHE-RSA-AES128-...|     TLSv1.2|2015-07-22|          0|\n",
      "|2015-07-22_1.186....|2015-07-22 16:26:...|marketpalce-shop|     1.186.101.79:50613|          10.0.6.199:80|                 2.3E-5|               0.021074|            0.000023|              200|                  200|             0|      1146|GET https://paytm...|Mozilla/5.0 (Wind...|ECDHE-RSA-AES128-...|     TLSv1.2|2015-07-22|          0|\n",
      "|2015-07-22_1.186....|2015-07-22 16:18:...|marketpalce-shop|     1.186.101.79:50613|          10.0.6.195:80|                 2.3E-5|                0.00467|            0.000015|              200|                  200|             0|     14186|GET https://paytm...|Mozilla/5.0 (Wind...|ECDHE-RSA-AES128-...|     TLSv1.2|2015-07-22|          0|\n",
      "|2015-07-22_1.186....|2015-07-22 16:23:...|marketpalce-shop|     1.186.101.79:50613|          10.0.6.195:80|                 2.5E-5|               0.033784|            0.000023|              200|                  200|           186|       187|POST https://payt...|Mozilla/5.0 (Wind...|ECDHE-RSA-AES128-...|     TLSv1.2|2015-07-22|          0|\n",
      "|2015-07-22_1.186....|2015-07-22 16:23:...|marketpalce-shop|     1.186.101.79:50613|          10.0.4.227:80|                 2.4E-5|               0.016136|             0.00002|              200|                  200|             0|      1146|GET https://paytm...|Mozilla/5.0 (Wind...|ECDHE-RSA-AES128-...|     TLSv1.2|2015-07-22|          0|\n",
      "|2015-07-22_1.186....|2015-07-22 16:18:...|marketpalce-shop|     1.186.101.79:50613|          10.0.4.217:80|                 2.1E-5|               0.020315|            0.000023|              200|                  200|             0|      1146|GET https://paytm...|Mozilla/5.0 (Wind...|ECDHE-RSA-AES128-...|     TLSv1.2|2015-07-22|          0|\n",
      "|2015-07-22_1.186....|2015-07-22 16:30:...|marketpalce-shop|     1.186.101.79:50613|          10.0.4.217:80|                 2.4E-5|               0.027232|            0.000023|              302|                  302|             0|        17|GET https://paytm...|Mozilla/5.0 (Wind...|ECDHE-RSA-AES128-...|     TLSv1.2|2015-07-22|          0|\n",
      "|2015-07-22_1.186....|2015-07-22 16:31:...|marketpalce-shop|     1.186.101.79:50613|          10.0.6.178:80|                 2.3E-5|               0.021628|            0.000029|              200|                  200|             0|      1146|GET https://paytm...|Mozilla/5.0 (Wind...|ECDHE-RSA-AES128-...|     TLSv1.2|2015-07-22|          0|\n",
      "|2015-07-22_1.186....|2015-07-22 16:31:...|marketpalce-shop|     1.186.101.79:50613|          10.0.4.244:80|                 2.5E-5|               0.057811|            0.000019|              200|                  200|           186|       187|POST https://payt...|Mozilla/5.0 (Wind...|ECDHE-RSA-AES128-...|     TLSv1.2|2015-07-22|          0|\n",
      "|2015-07-22_1.186....|2015-07-22 16:27:...|marketpalce-shop|     1.186.101.79:50613|          10.0.4.217:80|                 2.2E-5|               0.012266|            0.000017|              200|                  200|             0|       229|GET https://paytm...|Mozilla/5.0 (Wind...|ECDHE-RSA-AES128-...|     TLSv1.2|2015-07-22|          0|\n",
      "|2015-07-22_1.186....|2015-07-22 16:30:...|marketpalce-shop|     1.186.101.79:50613|          10.0.4.225:80|                 2.5E-5|               0.085386|            0.000025|              200|                  200|          1102|       528|POST https://payt...|Mozilla/5.0 (Wind...|ECDHE-RSA-AES128-...|     TLSv1.2|2015-07-22|          0|\n",
      "|2015-07-22_1.186....|2015-07-22 16:30:...|marketpalce-shop|     1.186.101.79:50614|           10.0.6.99:80|                 2.6E-5|               0.077996|            0.000019|              200|                  200|             0|       215|GET https://paytm...|Mozilla/5.0 (Wind...|ECDHE-RSA-AES128-...|     TLSv1.2|2015-07-22|          0|\n",
      "|2015-07-22_1.186....|2015-07-22 16:39:...|marketpalce-shop|     1.186.101.79:50895|          10.0.4.176:80|                 2.4E-5|               0.034399|            0.000014|              200|                  200|           186|       187|POST https://payt...|Mozilla/5.0 (Wind...|ECDHE-RSA-AES128-...|     TLSv1.2|2015-07-22|          0|\n",
      "+--------------------+--------------------+----------------+-----------------------+-----------------------+-----------------------+-----------------------+--------------------+-----------------+---------------------+--------------+----------+--------------------+--------------------+--------------------+------------+----------+-----------+\n",
      "only showing top 20 rows\n",
      "\n"
     ]
    }
   ],
   "source": [
    "# Creating a session ID, considering new action with in 15 minutes as same session from a request ip address \n",
    "from pyspark.sql.functions import to_date, col\n",
    "elb_log_table_with_session=spark.sql(\"\"\"\n",
    "SELECT  CONCAT(sess_date,'_',`request_ip:request_port`,\n",
    "              SUM(new_session) OVER (PARTITION BY `request_ip:request_port` ORDER BY timestamp)\n",
    "       ) AS session_id,*\n",
    "FROM (\n",
    "    SELECT *\n",
    "        , CASE\n",
    "            WHEN UNIX_TIMESTAMP(timestamp)\n",
    "                 - LAG (UNIX_TIMESTAMP(timestamp))\n",
    "                 OVER (PARTITION BY `request_ip:request_port`,sess_date ORDER BY timestamp) >= 15 * 60\n",
    "            THEN 1\n",
    "            ELSE 0\n",
    "          END AS new_session\n",
    "    FROM (select *, to_date(timestamp,'yyyy-mm-dd') as sess_date from elb_log_table)a\n",
    ") s1\n",
    "\"\"\")\n",
    "\n",
    "elb_log_table_with_session.createOrReplaceTempView(\"elb_log_table_with_session\")\n",
    "\n",
    "\n",
    "\n",
    "\n"
   ]
  },
  {
   "cell_type": "code",
   "execution_count": 9,
   "metadata": {},
   "outputs": [
    {
     "data": {
      "text/html": [
       "<table border=\"1\" class=\"dataframe\">\n",
       "  <thead>\n",
       "    <tr style=\"text-align: right;\">\n",
       "      <th></th>\n",
       "      <th>session_id</th>\n",
       "      <th>timestamp</th>\n",
       "      <th>elb_name</th>\n",
       "      <th>request_ip:request_port</th>\n",
       "      <th>backend_ip:backend_port</th>\n",
       "      <th>request_processing_time</th>\n",
       "      <th>backend_processing_time</th>\n",
       "      <th>client_response_time</th>\n",
       "      <th>elb_response_code</th>\n",
       "      <th>backend_response_code</th>\n",
       "      <th>received_bytes</th>\n",
       "      <th>sent_bytes</th>\n",
       "      <th>request</th>\n",
       "      <th>user_agent</th>\n",
       "      <th>ssl_cipher</th>\n",
       "      <th>ssl_protocol</th>\n",
       "      <th>sess_date</th>\n",
       "      <th>new_session</th>\n",
       "    </tr>\n",
       "  </thead>\n",
       "  <tbody>\n",
       "    <tr>\n",
       "      <th>0</th>\n",
       "      <td>2015-07-22_1.186.101.79:506130</td>\n",
       "      <td>2015-07-22 16:18:54.241</td>\n",
       "      <td>marketpalce-shop</td>\n",
       "      <td>1.186.101.79:50613</td>\n",
       "      <td>10.0.4.225:80</td>\n",
       "      <td>0.000021</td>\n",
       "      <td>0.023068</td>\n",
       "      <td>0.000022</td>\n",
       "      <td>200</td>\n",
       "      <td>200</td>\n",
       "      <td>0</td>\n",
       "      <td>1146</td>\n",
       "      <td>GET https://paytm.com:443/shop/orderdetail/111...</td>\n",
       "      <td>Mozilla/5.0 (Windows NT 6.3; WOW64; rv:39.0) G...</td>\n",
       "      <td>ECDHE-RSA-AES128-GCM-SHA256</td>\n",
       "      <td>TLSv1.2</td>\n",
       "      <td>2015-07-22</td>\n",
       "      <td>0</td>\n",
       "    </tr>\n",
       "    <tr>\n",
       "      <th>1</th>\n",
       "      <td>2015-07-22_1.186.101.79:506130</td>\n",
       "      <td>2015-07-22 16:18:33.093</td>\n",
       "      <td>marketpalce-shop</td>\n",
       "      <td>1.186.101.79:50613</td>\n",
       "      <td>10.0.6.195:80</td>\n",
       "      <td>0.000023</td>\n",
       "      <td>0.004670</td>\n",
       "      <td>0.000015</td>\n",
       "      <td>200</td>\n",
       "      <td>200</td>\n",
       "      <td>0</td>\n",
       "      <td>14186</td>\n",
       "      <td>GET https://paytm.com:443/shop/summary/1116587...</td>\n",
       "      <td>Mozilla/5.0 (Windows NT 6.3; WOW64; rv:39.0) G...</td>\n",
       "      <td>ECDHE-RSA-AES128-GCM-SHA256</td>\n",
       "      <td>TLSv1.2</td>\n",
       "      <td>2015-07-22</td>\n",
       "      <td>0</td>\n",
       "    </tr>\n",
       "    <tr>\n",
       "      <th>2</th>\n",
       "      <td>2015-07-22_1.186.101.79:506130</td>\n",
       "      <td>2015-07-22 16:18:52.661</td>\n",
       "      <td>marketpalce-shop</td>\n",
       "      <td>1.186.101.79:50613</td>\n",
       "      <td>10.0.4.244:80</td>\n",
       "      <td>0.000025</td>\n",
       "      <td>0.018183</td>\n",
       "      <td>0.00002</td>\n",
       "      <td>200</td>\n",
       "      <td>200</td>\n",
       "      <td>0</td>\n",
       "      <td>1146</td>\n",
       "      <td>GET https://paytm.com:443/shop/orderdetail/111...</td>\n",
       "      <td>Mozilla/5.0 (Windows NT 6.3; WOW64; rv:39.0) G...</td>\n",
       "      <td>ECDHE-RSA-AES128-GCM-SHA256</td>\n",
       "      <td>TLSv1.2</td>\n",
       "      <td>2015-07-22</td>\n",
       "      <td>0</td>\n",
       "    </tr>\n",
       "    <tr>\n",
       "      <th>3</th>\n",
       "      <td>2015-07-22_1.186.101.79:506130</td>\n",
       "      <td>2015-07-22 16:18:30.370</td>\n",
       "      <td>marketpalce-shop</td>\n",
       "      <td>1.186.101.79:50613</td>\n",
       "      <td>10.0.4.217:80</td>\n",
       "      <td>0.000021</td>\n",
       "      <td>0.020315</td>\n",
       "      <td>0.000023</td>\n",
       "      <td>200</td>\n",
       "      <td>200</td>\n",
       "      <td>0</td>\n",
       "      <td>1146</td>\n",
       "      <td>GET https://paytm.com:443/shop/orderdetail/111...</td>\n",
       "      <td>Mozilla/5.0 (Windows NT 6.3; WOW64; rv:39.0) G...</td>\n",
       "      <td>ECDHE-RSA-AES128-GCM-SHA256</td>\n",
       "      <td>TLSv1.2</td>\n",
       "      <td>2015-07-22</td>\n",
       "      <td>0</td>\n",
       "    </tr>\n",
       "    <tr>\n",
       "      <th>4</th>\n",
       "      <td>2015-07-22_1.186.101.79:506130</td>\n",
       "      <td>2015-07-22 16:20:42.667</td>\n",
       "      <td>marketpalce-shop</td>\n",
       "      <td>1.186.101.79:50613</td>\n",
       "      <td>10.0.6.158:80</td>\n",
       "      <td>0.000024</td>\n",
       "      <td>0.008459</td>\n",
       "      <td>0.000021</td>\n",
       "      <td>200</td>\n",
       "      <td>200</td>\n",
       "      <td>0</td>\n",
       "      <td>229</td>\n",
       "      <td>GET https://paytm.com:443/shop/cart?channel=we...</td>\n",
       "      <td>Mozilla/5.0 (Windows NT 6.3; WOW64; rv:39.0) G...</td>\n",
       "      <td>ECDHE-RSA-AES128-GCM-SHA256</td>\n",
       "      <td>TLSv1.2</td>\n",
       "      <td>2015-07-22</td>\n",
       "      <td>0</td>\n",
       "    </tr>\n",
       "  </tbody>\n",
       "</table>"
      ],
      "text/plain": [
       "<IPython.core.display.HTML object>"
      ]
     },
     "execution_count": 9,
     "metadata": {},
     "output_type": "execute_result"
    }
   ],
   "source": [
    "prtyshow(elb_log_table_with_session.orderBy('session_id'))"
   ]
  },
  {
   "cell_type": "code",
   "execution_count": 10,
   "metadata": {},
   "outputs": [
    {
     "data": {
      "text/html": [
       "<table border=\"1\" class=\"dataframe\">\n",
       "  <thead>\n",
       "    <tr style=\"text-align: right;\">\n",
       "      <th></th>\n",
       "      <th>session_id</th>\n",
       "      <th>page_hits</th>\n",
       "    </tr>\n",
       "  </thead>\n",
       "  <tbody>\n",
       "    <tr>\n",
       "      <th>0</th>\n",
       "      <td>2015-07-22_106.186.23.95:393961</td>\n",
       "      <td>1</td>\n",
       "    </tr>\n",
       "    <tr>\n",
       "      <th>1</th>\n",
       "      <td>2015-07-22_117.203.97.74:405890</td>\n",
       "      <td>2</td>\n",
       "    </tr>\n",
       "    <tr>\n",
       "      <th>2</th>\n",
       "      <td>2015-07-22_120.60.183.8:145870</td>\n",
       "      <td>1</td>\n",
       "    </tr>\n",
       "    <tr>\n",
       "      <th>3</th>\n",
       "      <td>2015-07-22_122.170.78.214:569200</td>\n",
       "      <td>2</td>\n",
       "    </tr>\n",
       "    <tr>\n",
       "      <th>4</th>\n",
       "      <td>2015-07-22_182.66.13.110:121510</td>\n",
       "      <td>6</td>\n",
       "    </tr>\n",
       "  </tbody>\n",
       "</table>"
      ],
      "text/plain": [
       "<IPython.core.display.HTML object>"
      ]
     },
     "execution_count": 10,
     "metadata": {},
     "output_type": "execute_result"
    }
   ],
   "source": [
    "page_hits_by_ip_session=spark.sql(\"\"\"\n",
    "select session_id,count(request) as page_hits from elb_log_table_with_session\n",
    "group by session_id\n",
    "\"\"\")\n",
    "\n",
    "prtyshow(page_hits_by_ip_session)\n",
    "\n",
    "\n",
    "\n"
   ]
  },
  {
   "cell_type": "code",
   "execution_count": 11,
   "metadata": {},
   "outputs": [
    {
     "data": {
      "text/html": [
       "<table border=\"1\" class=\"dataframe\">\n",
       "  <thead>\n",
       "    <tr style=\"text-align: right;\">\n",
       "      <th></th>\n",
       "      <th>session_id</th>\n",
       "      <th>average_session_time</th>\n",
       "    </tr>\n",
       "  </thead>\n",
       "  <tbody>\n",
       "    <tr>\n",
       "      <th>0</th>\n",
       "      <td>2015-07-22_106.186.23.95:393961</td>\n",
       "      <td>0.000000</td>\n",
       "    </tr>\n",
       "    <tr>\n",
       "      <th>1</th>\n",
       "      <td>2015-07-22_117.203.97.74:405890</td>\n",
       "      <td>127.000000</td>\n",
       "    </tr>\n",
       "    <tr>\n",
       "      <th>2</th>\n",
       "      <td>2015-07-22_120.60.183.8:145870</td>\n",
       "      <td>0.000000</td>\n",
       "    </tr>\n",
       "    <tr>\n",
       "      <th>3</th>\n",
       "      <td>2015-07-22_122.170.78.214:569200</td>\n",
       "      <td>97.500000</td>\n",
       "    </tr>\n",
       "    <tr>\n",
       "      <th>4</th>\n",
       "      <td>2015-07-22_182.66.13.110:121510</td>\n",
       "      <td>92.666667</td>\n",
       "    </tr>\n",
       "  </tbody>\n",
       "</table>"
      ],
      "text/plain": [
       "<IPython.core.display.HTML object>"
      ]
     },
     "execution_count": 11,
     "metadata": {},
     "output_type": "execute_result"
    }
   ],
   "source": [
    "avg_session_time=spark.sql(\"\"\"\n",
    "select session_id, ((max_time_stamp-min_time_stamp)/no_of_action_in_session) as average_session_time  from\n",
    "(\n",
    " select session_id, max(UNIX_TIMESTAMP(timestamp))  as max_time_stamp,\n",
    " min(UNIX_TIMESTAMP(timestamp)) as min_time_stamp,\n",
    " count(session_id)  as no_of_action_in_session\n",
    " from elb_log_table_with_session\n",
    " group by session_id\n",
    " )\n",
    "\"\"\")\n",
    "avg_session_time.createOrReplaceTempView('avg_session_time_tmp')\n",
    "\n",
    "prtyshow(avg_session_time)"
   ]
  },
  {
   "cell_type": "code",
   "execution_count": 12,
   "metadata": {},
   "outputs": [
    {
     "data": {
      "text/html": [
       "<table border=\"1\" class=\"dataframe\">\n",
       "  <thead>\n",
       "    <tr style=\"text-align: right;\">\n",
       "      <th></th>\n",
       "      <th>session_id</th>\n",
       "      <th>unique_visit</th>\n",
       "    </tr>\n",
       "  </thead>\n",
       "  <tbody>\n",
       "    <tr>\n",
       "      <th>0</th>\n",
       "      <td>2015-07-22_106.215.147.217:208570</td>\n",
       "      <td>1</td>\n",
       "    </tr>\n",
       "    <tr>\n",
       "      <th>1</th>\n",
       "      <td>2015-07-22_106.215.153.92:376780</td>\n",
       "      <td>11</td>\n",
       "    </tr>\n",
       "    <tr>\n",
       "      <th>2</th>\n",
       "      <td>2015-07-22_54.169.1.152:350540</td>\n",
       "      <td>1</td>\n",
       "    </tr>\n",
       "    <tr>\n",
       "      <th>3</th>\n",
       "      <td>2015-07-22_192.8.176.11:306920</td>\n",
       "      <td>2</td>\n",
       "    </tr>\n",
       "    <tr>\n",
       "      <th>4</th>\n",
       "      <td>2015-07-22_103.26.72.116:544780</td>\n",
       "      <td>3</td>\n",
       "    </tr>\n",
       "  </tbody>\n",
       "</table>"
      ],
      "text/plain": [
       "<IPython.core.display.HTML object>"
      ]
     },
     "execution_count": 12,
     "metadata": {},
     "output_type": "execute_result"
    }
   ],
   "source": [
    "unique_visits_session=spark.sql(\"\"\"\n",
    "select session_id, count(distinct request) as unique_visit\n",
    " from elb_log_table_with_session\n",
    " group by session_id\n",
    " \"\"\")\n",
    " \n",
    "prtyshow(unique_visits_session)\n",
    " \n",
    " "
   ]
  },
  {
   "cell_type": "code",
   "execution_count": 14,
   "metadata": {},
   "outputs": [
    {
     "data": {
      "text/html": [
       "<table border=\"1\" class=\"dataframe\">\n",
       "  <thead>\n",
       "    <tr style=\"text-align: right;\">\n",
       "      <th></th>\n",
       "      <th>session_id</th>\n",
       "      <th>average_session_time</th>\n",
       "    </tr>\n",
       "  </thead>\n",
       "  <tbody>\n",
       "    <tr>\n",
       "      <th>0</th>\n",
       "      <td>2015-07-22_14.139.238.98:113380</td>\n",
       "      <td>53.294118</td>\n",
       "    </tr>\n",
       "    <tr>\n",
       "      <th>1</th>\n",
       "      <td>2015-07-22_117.232.242.65:397830</td>\n",
       "      <td>53.333333</td>\n",
       "    </tr>\n",
       "    <tr>\n",
       "      <th>2</th>\n",
       "      <td>2015-07-22_117.220.9.51:501320</td>\n"