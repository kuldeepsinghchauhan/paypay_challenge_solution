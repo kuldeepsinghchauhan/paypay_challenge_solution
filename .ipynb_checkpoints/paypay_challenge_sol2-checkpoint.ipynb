{
 "cells": [
  {
   "cell_type": "code",
   "execution_count": 8,
   "metadata": {},
   "outputs": [],
   "source": [
    "from pyspark.sql import SparkSession\n",
    "spark = SparkSession.builder.appName('paypay_challenge_sol2').getOrCreate()"
   ]
  },
  {
   "cell_type": "code",
   "execution_count": 13,
   "metadata": {},
   "outputs": [
    {
     "data": {
      "text/html": [
       "<style>.container { width:100% !important; }</style>"
      ],
      "text/plain": [
       "<IPython.core.display.HTML object>"
      ]
     },
     "metadata": {},
     "output_type": "display_data"
    }
   ],
   "source": [
    "from IPython.core.display import display, HTML\n",
    "display(HTML(\"<style>.container { width:100% !important; }</style>\"))"
   ]
  },
  {
   "cell_type": "code",
   "execution_count": 17,
   "metadata": {},
   "outputs": [],
   "source": [
    "def prtyshow(sprkDF): \n",
    "    newdf = sprkDF.limit(5).toPandas()\n",
    "    from IPython.display import display, HTML\n",
    "    return HTML(newdf.to_html())"
   ]
  },
  {
   "cell_type": "code",
   "execution_count": 79,
   "metadata": {},
   "outputs": [],
   "source": [
    "from pyspark.sql.types import *\n",
    "\n",
    "log_schema=StructType([\n",
    "    StructField(\"timestamp\", TimestampType(), True),\n",
    "    StructField(\"elb_name\", StringType(), True),\n",
    "    StructField(\"request_ip:request_port\", StringType(), True),\n",
    "\tStructField(\"backend_ip:backend_port\", StringType(), True),\n",
    "\tStructField(\"request_processing_time\", DoubleType(), True),\n",
    "\tStructField(\"backend_processing_time\", DoubleType(), True),\n",
    "\tStructField(\"client_response_time\", StringType(), True),\n",
    "\tStructField(\"elb_response_code\", StringType(), True),\n",
    "\tStructField(\"backend_response_code\", StringType(), True),\n",
    "\tStructField(\"received_bytes\", StringType(), True),\n",
    "\tStructField(\"sent_bytes\", StringType(), True),\n",
    "    StructField(\"request\", StringType(), True),\t\n",
    "\tStructField(\"user_agent\", StringType(), True),\n",
    "\tStructField(\"ssl_cipher\", StringType(), True),\n",
    "\tStructField(\"ssl_protocol\", StringType(), True)\n",
    "\t\n",
    "\t\n",
    "])"
   ]
  },
  {
   "cell_type": "code",
   "execution_count": 80,
   "metadata": {},
   "outputs": [],
   "source": [
    "log_file_name=\"2015_07_22_mktplace_shop_web_log_sample.log.gz\""
   ]
  },
  {
   "cell_type": "code",
   "execution_count": 107,
   "metadata": {},
   "outputs": [],
   "source": [
    "elb_log_df=spark.read.format(\"csv\").\\\n",
    "        option(\"header\", \"false\").\\\n",
    "        option(\"delimiter\", \" \").\\\n",
    "        schema(log_schema).\\\n",
    "        load(log_file_name)"
   ]
  },
  {
   "cell_type": "code",
   "execution_count": 108,
   "metadata": {},
   "outputs": [
    {
     "data": {
      "text/html": [
       "<table border=\"1\" class=\"dataframe\">\n",
       "  <thead>\n",
       "    <tr style=\"text-align: right;\">\n",
       "      <th></th>\n",
       "      <th>timestamp</th>\n",
       "      <th>elb_name</th>\n",
       "      <th>request_ip:request_port</th>\n",
       "      <th>backend_ip:backend_port</th>\n",
       "      <th>request_processing_time</th>\n",
       "      <th>backend_processing_time</th>\n",
       "      <th>client_response_time</th>\n",
       "      <th>elb_response_code</th>\n",
       "      <th>backend_response_code</th>\n",
       "      <th>received_bytes</th>\n",
       "      <th>sent_bytes</th>\n",
       "      <th>request</th>\n",
       "      <th>user_agent</th>\n",
       "      <th>ssl_cipher</th>\n",
       "      <th>ssl_protocol</th>\n",
       "    </tr>\n",
       "  </thead>\n",
       "  <tbody>\n",
       "    <tr>\n",
       "      <th>0</th>\n",
       "      <td>2015-07-22 14:30:47.143</td>\n",
       "      <td>marketpalce-shop</td>\n",
       "      <td>123.242.248.130:54635</td>\n",
       "      <td>10.0.6.158:80</td>\n",
       "      <td>0.000022</td>\n",
       "      <td>0.026109</td>\n",
       "      <td>0.00002</td>\n",
       "      <td>200</td>\n",
       "      <td>200</td>\n",
       "      <td>0</td>\n",
       "      <td>699</td>\n",
       "      <td>GET https://paytm.com:443/shop/authresponse?co...</td>\n",
       "      <td>Mozilla/5.0 (Windows NT 6.1; WOW64) AppleWebKi...</td>\n",
       "      <td>ECDHE-RSA-AES128-GCM-SHA256</td>\n",
       "      <td>TLSv1.2</td>\n",
       "    </tr>\n",
       "    <tr>\n",
       "      <th>1</th>\n",
       "      <td>2015-07-22 14:45:21.580</td>\n",
       "      <td>marketpalce-shop</td>\n",
       "      <td>203.91.211.44:51402</td>\n",
       "      <td>10.0.4.150:80</td>\n",
       "      <td>0.000024</td>\n",
       "      <td>0.153340</td>\n",
       "      <td>0.000026</td>\n",
       "      <td>200</td>\n",
       "      <td>200</td>\n",
       "      <td>0</td>\n",
       "      <td>1497</td>\n",
       "      <td>GET https://paytm.com:443/shop/wallet/txnhisto...</td>\n",
       "      <td>Mozilla/5.0 (Windows NT 6.1; rv:39.0) Gecko/20...</td>\n",
       "      <td>ECDHE-RSA-AES128-GCM-SHA256</td>\n",
       "      <td>TLSv1.2</td>\n",
       "    </tr>\n",
       "    <tr>\n",
       "      <th>2</th>\n",
       "      <td>2015-07-22 14:45:12.745</td>\n",
       "      <td>marketpalce-shop</td>\n",
       "      <td>1.39.32.179:56419</td>\n",
       "      <td>10.0.4.244:80</td>\n",
       "      <td>0.000024</td>\n",
       "      <td>0.164958</td>\n",
       "      <td>0.000017</td>\n",
       "      <td>200</td>\n",
       "      <td>200</td>\n",
       "      <td>0</td>\n",
       "      <td>157</td>\n",
       "      <td>GET https://paytm.com:443/shop/wallet/txnhisto...</td>\n",
       "      <td>Mozilla/5.0 (Windows NT 6.1) AppleWebKit/537.3...</td>\n",
       "      <td>ECDHE-RSA-AES128-GCM-SHA256</td>\n",
       "      <td>TLSv1.2</td>\n",
       "    </tr>\n",
       "    <tr>\n",
       "      <th>3</th>\n",
       "      <td>2015-07-22 14:31:16.369</td>\n",
       "      <td>marketpalce-shop</td>\n",
       "      <td>180.179.213.94:48725</td>\n",
       "      <td>10.0.6.108:80</td>\n",
       "      <td>0.000020</td>\n",
       "      <td>0.002333</td>\n",
       "      <td>0.000021</td>\n",
       "      <td>200</td>\n",
       "      <td>200</td>\n",
       "      <td>0</td>\n",
       "      <td>35734</td>\n",
       "      <td>GET https://paytm.com:443/shop/p/micromax-yu-y...</td>\n",
       "      <td>-</td>\n",
       "      <td>ECDHE-RSA-AES128-GCM-SHA256</td>\n",
       "      <td>TLSv1.2</td>\n",
       "    </tr>\n",
       "    <tr>\n",
       "      <th>4</th>\n",
       "      <td>2015-07-22 14:31:04.251</td>\n",
       "      <td>marketpalce-shop</td>\n",
       "      <td>120.59.192.208:13527</td>\n",
       "      <td>10.0.4.217:80</td>\n",
       "      <td>0.000024</td>\n",
       "      <td>0.015091</td>\n",
       "      <td>0.000016</td>\n",
       "      <td>200</td>\n",
       "      <td>200</td>\n",
       "      <td>68</td>\n",
       "      <td>640</td>\n",
       "      <td>POST https://paytm.com:443/papi/v1/expresscart...</td>\n",
       "      <td>Mozilla/5.0 (Windows NT 6.1; WOW64) AppleWebKi...</td>\n",
       "      <td>ECDHE-RSA-AES128-GCM-SHA256</td>\n",
       "      <td>TLSv1.2</td>\n",
       "    </tr>\n",
       "  </tbody>\n",
       "</table>"
      ],
      "text/plain": [
       "<IPython.core.display.HTML object>"
      ]
     },
     "execution_count": 108,
     "metadata": {},
     "output_type": "execute_result"
    }
   ],
   "source": [
    "prtyshow(elb_log_df)"
   ]
  },
  {
   "cell_type": "code",
   "execution_count": 109,
   "metadata": {},
   "outputs": [],
   "source": [
    "elb_log_df.createOrReplaceTempView(\"elb_log_table\")"
   ]
  },
  {
   "cell_type": "code",
   "execution_count": 117,
   "metadata": {},
   "outputs": [],
   "source": [
    "select_df_4=spark.sql(\"\"\"\n",
    "\n",
    "SELECT elb_name,timestamp\n",
    "    , CONCAT(elb_name,\n",
    "       CONCAT('_',\n",
    "        SUM(new_session) OVER (PARTITION BY elb_name ORDER BY timestamp)\n",
    "       )\n",
    "      ) AS session_id\n",
    "FROM (\n",
    "    SELECT *\n",
    "        , CASE\n",
    "            WHEN UNIX_TIMESTAMP(timestamp)\n",
    "                 - LAG (UNIX_TIMESTAMP(timestamp))\n",
    "                 OVER (PARTITION BY elb_name ORDER BY timestamp) >= 1 * 60\n",
    "            THEN 1\n",
    "            ELSE 0\n",
    "          END AS new_session\n",
    "    FROM elb_log_table\n",
    ") s1\n",
    "\"\"\")"
   ]
  },
  {
   "cell_type": "code",
   "execution_count": 118,
   "metadata": {},
   "outputs": [
    {
     "data": {
      "text/html": [
       "<table border=\"1\" class=\"dataframe\">\n",
       "  <thead>\n",
       "    <tr style=\"text-align: right;\">\n",
       "      <th></th>\n",
       "      <th>elb_name</th>\n",
       "      <th>timestamp</th>\n",
       "      <th>session_id</th>\n",
       "    </tr>\n",
       "  </thead>\n",
       "  <tbody>\n",
       "    <tr>\n",
       "      <th>0</th>\n",
       "      <td>marketpalce-shop</td>\n",
       "      <td>2015-07-22 08:10:16.121</td>\n",
       "      <td>marketpalce-shop_0</td>\n",
       "    </tr>\n",
       "    <tr>\n",
       "      <th>1</th>\n",
       "      <td>marketpalce-shop</td>\n",
       "      <td>2015-07-22 08:10:17.342</td>\n",
       "      <td>marketpalce-shop_0</td>\n",
       "    </tr>\n",
       "    <tr>\n",
       "      <th>2</th>\n",
       "      <td>marketpalce-shop</td>\n",
       "      <td>2015-07-22 08:10:19.755</td>\n",
       "      <td>marketpalce-shop_0</td>\n",
       "    </tr>\n",
       "    <tr>\n",
       "      <th>3</th>\n",
       "      <td>marketpalce-shop</td>\n",
       "      <td>2015-07-22 08:10:20.632</td>\n",
       "      <td>marketpalce-shop_0</td>\n",
       "    </tr>\n",
       "    <tr>\n",
       "      <th>4</th>\n",
       "      <td>marketpalce-shop</td>\n",
       "      <td>2015-07-22 08:10:20.670</td>\n",
       "      <td>marketpalce-shop_0</td>\n",
       "    </tr>\n",
       "  </tbody>\n",
       "</table>"
      ],
      "text/plain": [
       "<IPython.core.display.HTML object>"
      ]
     },
     "execution_count": 118,
     "metadata": {},
     "output_type": "execute_result"
    }
   ],
   "source": [
    "prtyshow(select_df_4)"
   ]
  }
 ],
 "metadata": {
  "kernelspec": {
   "display_name": "Python 3",
   "language": "python",
   "name": "python3"
  },
  "language_info": {
   "codemirror_mode": {
    "name": "ipython",
    "version": 3
   },
   "file_extension": ".py",
   "mimetype": "text/x-python",
   "name": "python",
   "nbconvert_exporter": "python",
   "pygments_lexer": "ipython3",
   "version": "3.5.2"
  }
 },
 "nbformat": 4,
 "nbformat_minor": 2
}
